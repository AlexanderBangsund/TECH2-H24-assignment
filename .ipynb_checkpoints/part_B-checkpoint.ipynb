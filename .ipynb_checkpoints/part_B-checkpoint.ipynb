{
 "cells": [
  {
   "cell_type": "markdown",
   "metadata": {},
   "source": [
    "# TECH 2 mandatory assignment - Part B\n",
    "\n",
    "Write your solution for Part B in this notebook."
   ]
  },
  {
   "cell_type": "code",
   "execution_count": null,
   "metadata": {},
   "outputs": [],
   "source": []
  },
  {
   "cell_type": "code",
   "execution_count": 1,
   "metadata": {},
   "outputs": [
    {
     "data": {
      "text/plain": [
       "'/Users/alexander/Documents/TECH2-H24-assignment'"
      ]
     },
     "execution_count": 1,
     "metadata": {},
     "output_type": "execute_result"
    }
   ],
   "source": []
  },
  {
   "cell_type": "code",
   "execution_count": null,
   "metadata": {},
   "outputs": [],
   "source": []
  },
  {
   "cell_type": "code",
   "execution_count": 11,
   "metadata": {},
   "outputs": [
    {
     "name": "stdout",
     "output_type": "stream",
     "text": [
      "Timing for Column 1:\n",
      "5.01 μs ± 96.8 ns per loop (mean ± std. dev. of 7 runs, 100,000 loops each)\n",
      "6.23 μs ± 101 ns per loop (mean ± std. dev. of 7 runs, 100,000 loops each)\n",
      "7.81 μs ± 136 ns per loop (mean ± std. dev. of 7 runs, 100,000 loops each)\n",
      "Timing for Column 2:\n",
      "52.8 μs ± 696 ns per loop (mean ± std. dev. of 7 runs, 10,000 loops each)\n",
      "58.8 μs ± 1.2 μs per loop (mean ± std. dev. of 7 runs, 10,000 loops each)\n",
      "25.5 μs ± 332 ns per loop (mean ± std. dev. of 7 runs, 10,000 loops each)\n",
      "Timing for Column 3:\n",
      "551 μs ± 8.55 μs per loop (mean ± std. dev. of 7 runs, 1,000 loops each)\n",
      "605 μs ± 10.5 μs per loop (mean ± std. dev. of 7 runs, 1,000 loops each)\n",
      "194 μs ± 445 ns per loop (mean ± std. dev. of 7 runs, 10,000 loops each)\n",
      "0.2823721097353601\n",
      "0.28467443283850596\n",
      "0.2854045269476156\n"
     ]
    }
   ],
   "source": [
    "import csv\n",
    "import numpy as np\n",
    "from math import sqrt\n",
    "\n",
    "# Read data from the CSV and store it in three columns\n",
    "file_path = \"data.csv\"\n",
    "column1 = []\n",
    "column2 = []\n",
    "column3 = []\n",
    "\n",
    "\n",
    "with open(file_path, \"r\") as f:   #Open the file and then closes it\n",
    "    reader = csv.reader(f)\n",
    "    for row in reader:\n",
    "        if row[0] != \"\":\n",
    "            column1.append(float(row[0]))\n",
    "        if row[1] != \"\":\n",
    "            column2.append(float(row[1]))\n",
    "        if row[2] != \"\":\n",
    "            column3.append(float(row[2]))\n",
    "\n",
    "# Standard deviation using loops\n",
    "def std_loops(data):\n",
    "    sum_dataset = 0\n",
    "    mean_of_squares = 0\n",
    "    N = len(data)\n",
    "    \n",
    "    for i in range(N):\n",
    "        sum_dataset += data[i]\n",
    "        mean_of_squares += data[i]**2\n",
    "    \n",
    "    mean_dataset = sum_dataset / N\n",
    "    mean_of_squares = mean_of_squares / N\n",
    "    variance = mean_of_squares - mean_dataset**2\n",
    "    return sqrt(variance)\n",
    "\n",
    "# Standard deviation using built-in functions\n",
    "def std_builtin(data):\n",
    "    N = len(data)\n",
    "    mean_dataset = sum(data) / N\n",
    "    sum_value_sub_mean_squared = sum((value - mean_dataset) ** 2 for value in data)\n",
    "    variance = sum_value_sub_mean_squared / N\n",
    "    return sqrt(variance)\n",
    "\n",
    "# Standard deviation using NumPy\n",
    "def std_numpy(data):\n",
    "    return np.std(data)\n",
    "\n",
    "# Using %timeit \n",
    "# Column 1\n",
    "print(\"Timing for Column 1:\")\n",
    "%timeit std_loops(column1)\n",
    "%timeit std_builtin(column1)\n",
    "%timeit std_numpy(column1)\n",
    "\n",
    "# Column 2\n",
    "print(\"Timing for Column 2:\")\n",
    "%timeit std_loops(column2)\n",
    "%timeit std_builtin(column2)\n",
    "%timeit std_numpy(column2)\n",
    "\n",
    "# Column 3\n",
    "print(\"Timing for Column 3:\")\n",
    "%timeit std_loops(column3)\n",
    "%timeit std_builtin(column3)\n",
    "%timeit std_numpy(column3)\n",
    "\n",
    "\n",
    "\n",
    "print(std_loops(column1))\n",
    "print(std_builtin(column2))\n",
    "print(std_numpy(column3))"
   ]
  },
  {
   "cell_type": "code",
   "execution_count": null,
   "metadata": {},
   "outputs": [],
   "source": [
    "\"Conclusion: When the size of the dataset increase, numpy is the best option. "
   ]
  }
 ],
 "metadata": {
  "kernelspec": {
   "display_name": "Python 3 (ipykernel)",
   "language": "python",
   "name": "python3"
  },
  "language_info": {
   "codemirror_mode": {
    "name": "ipython",
    "version": 3
   },
   "file_extension": ".py",
   "mimetype": "text/x-python",
   "name": "python",
   "nbconvert_exporter": "python",
   "pygments_lexer": "ipython3",
   "version": "3.12.4"
  }
 },
 "nbformat": 4,
 "nbformat_minor": 4
}
